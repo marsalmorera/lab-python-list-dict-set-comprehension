{
 "cells": [
  {
   "cell_type": "markdown",
   "id": "25d7736c-ba17-4aff-b6bb-66eba20fbf4e",
   "metadata": {},
   "source": [
    "# Lab | List, Dict and Set Comprehension"
   ]
  },
  {
   "cell_type": "markdown",
   "id": "7dd3cbde-675a-4b81-92c3-f728846dbe06",
   "metadata": {},
   "source": [
    "## Exercise: Managing Customer Orders Optimized with Comprehension"
   ]
  },
  {
   "cell_type": "markdown",
   "id": "5d500160-2fb7-4777-b5e4-09d45ebaf328",
   "metadata": {},
   "source": [
    "In the previous exercise, you developed a program to manage customer orders and inventory. Now, let's take it a step further and incorporate comprehension into your code.\n",
    "\n",
    "Follow the steps below to complete the exercise:\n",
    "\n",
    "1. Review your code from the previous exercise and identify areas where you can apply comprehension to simplify and streamline your code. \n",
    "\n",
    "    - *Hint: Apply it to initialize inventory, updating the inventory and printing the updated inventory.*\n",
    "    \n",
    "    - For example, in initializing the inventory, we could have:\n",
    "    \n",
    "        ```python\n",
    "        def initialize_inventory(products):\n",
    "            inventory = {product: int(input(f\"Enter the quantity of {product}s available: \")) for product in products}\n",
    "            return inventory\n",
    "\n",
    "        ```\n",
    "<br>\n",
    "    \n",
    "    \n",
    "2. Modify the function get_customer_orders so it prompts the user to enter the number of customer orders and gathers the product names using a loop and user input. Use comprehension.\n",
    "\n",
    "3. Add a new function to calculate the total price of the customer order. For each product in customer_orders, prompt the user to enter the price of that product. Use comprehension to calculate the total price. Note: assume that the user can only have 1 unit of each product.\n",
    "\n",
    "4. Modify the update_inventory function to remove the product from the inventory if its quantity becomes zero after fulfilling the customer orders. Use comprehension to filter out the products with a quantity of zero from the inventory.\n",
    "\n",
    "5. Print the total price of the customer order.\n",
    "\n",
    "Your code should produce output similar to the following:\n",
    "\n",
    "```python\n",
    "Enter the quantity of t-shirts available:  5\n",
    "Enter the quantity of mugs available:  4\n",
    "Enter the quantity of hats available:  3\n",
    "Enter the quantity of books available:  2\n",
    "Enter the quantity of keychains available:  1\n",
    "Enter the number of customer orders:  2\n",
    "Enter the name of a product that a customer wants to order:  hat\n",
    "Enter the name of a product that a customer wants to order:  keychain\n",
    "\n",
    "Order Statistics:\n",
    "Total Products Ordered: 2\n",
    "Percentage of Unique Products Ordered: 40.0\n",
    "\n",
    "Updated Inventory:\n",
    "t-shirt: 5\n",
    "mug: 4\n",
    "hat: 2\n",
    "book: 2\n",
    "Enter the price of keychain:  5\n",
    "Enter the price of hat:  10\n",
    "Total Price: 15.0\n",
    "\n",
    "```\n"
   ]
  },
  {
   "cell_type": "code",
   "execution_count": 2,
   "id": "998378d6-c1a1-40f4-824d-0dbaebaaf56a",
   "metadata": {},
   "outputs": [],
   "source": [
    "# Review the code.  \n",
    "def initialize_inventory(products):\n",
    "    inventory = {product: int(input(f\"Enter the quantity of {product}s available: \")) for product in products}\n",
    "    return inventory "
   ]
  },
  {
   "cell_type": "code",
   "execution_count": 4,
   "id": "58af0f2c-77a8-488e-85c6-01ac7cab221a",
   "metadata": {},
   "outputs": [
    {
     "name": "stdin",
     "output_type": "stream",
     "text": [
      "Enter the quantity of t-shirts available:  5\n",
      "Enter the quantity of mugs available:  4\n",
      "Enter the quantity of hats available:  3\n",
      "Enter the quantity of books available:  2\n",
      "Enter the quantity of keychains available:  1\n"
     ]
    }
   ],
   "source": [
    "products = [\"t-shirt\", \"mug\", \"hat\", \"book\", \"keychain\"]\n",
    "inventory = initialize_inventory (products)"
   ]
  },
  {
   "cell_type": "code",
   "execution_count": 6,
   "id": "fc0a27b0-3c7a-4662-a4df-70b1897dc78d",
   "metadata": {},
   "outputs": [],
   "source": [
    "# Modify the function get_customer_orders \n",
    "def get_customer_orders(): \n",
    "    num_orders = int(input(\"Enter the number of customer orders: \"))\n",
    "    orders = [input(f\"Enter product name for order {i+1}: \") for i in range (num_orders)]\n",
    "    return orders"
   ]
  },
  {
   "cell_type": "code",
   "execution_count": 8,
   "id": "c57a764b-d8fe-469a-a4fa-c752c80665a5",
   "metadata": {},
   "outputs": [
    {
     "name": "stdin",
     "output_type": "stream",
     "text": [
      "Enter the number of customer orders:  2\n",
      "Enter product name for order 1:  hat\n",
      "Enter product name for order 2:  keychain\n"
     ]
    },
    {
     "name": "stdout",
     "output_type": "stream",
     "text": [
      "['hat', 'keychain']\n"
     ]
    }
   ],
   "source": [
    "orders = get_customer_orders()\n",
    "print(orders)"
   ]
  },
  {
   "cell_type": "code",
   "execution_count": 10,
   "id": "ca395568-e11d-4dca-8897-cbee5864c4f5",
   "metadata": {},
   "outputs": [],
   "source": [
    "# 3. Add new function calculate_total_price \n",
    "def calculate_total_price(customer_orders):\n",
    "    total_price = sum([float(input(f\"Enter the price for {product}: \")) for product in customer_orders])\n",
    "    return total_price"
   ]
  },
  {
   "cell_type": "code",
   "execution_count": 12,
   "id": "1b724691-83cd-41f7-bfb2-1702b5fd2b9a",
   "metadata": {},
   "outputs": [
    {
     "name": "stdin",
     "output_type": "stream",
     "text": [
      "Enter the number of customer orders:  2\n",
      "Enter product name for order 1:  hat\n",
      "Enter product name for order 2:  keychain\n",
      "Enter the price for hat:  10\n",
      "Enter the price for keychain:  5\n"
     ]
    },
    {
     "name": "stdout",
     "output_type": "stream",
     "text": [
      "The total price is: 15.0\n"
     ]
    }
   ],
   "source": [
    "customer_orders = get_customer_orders()\n",
    "total_price = calculate_total_price(customer_orders) \n",
    "print(f\"The total price is: {total_price}\")"
   ]
  },
  {
   "cell_type": "code",
   "execution_count": 14,
   "id": "ae777ceb-0363-4393-9e8b-ce0385e281a3",
   "metadata": {},
   "outputs": [],
   "source": [
    "# 4. update_inventory\n",
    "def update_inventory (inventory, customer_orders):\n",
    "    for product in customer_orders: \n",
    "        if product in inventory and inventory [product] > 0:\n",
    "            inventory [product] -= 1 \n",
    "    inventory = {product: quantity for product, quantity in inventory.items() if quantity > 0}\n",
    "    return inventory "
   ]
  },
  {
   "cell_type": "code",
   "execution_count": 16,
   "id": "36290461-e1e3-4c88-964d-7957717ac586",
   "metadata": {},
   "outputs": [
    {
     "data": {
      "text/plain": [
       "{'t-shirt': 5, 'mug': 4, 'hat': 3, 'book': 2, 'keychain': 1}"
      ]
     },
     "execution_count": 16,
     "metadata": {},
     "output_type": "execute_result"
    }
   ],
   "source": [
    "inventory"
   ]
  },
  {
   "cell_type": "code",
   "execution_count": 34,
   "id": "20f525e5-e1dd-4b7b-9bd7-ad236231844a",
   "metadata": {},
   "outputs": [],
   "source": [
    "def print_updated_inventory(inventory):\n",
    "    print(\"Updated Inventory:\")\n",
    "    for product, quantity in inventory.items():\n",
    "        print(f\"{product}: {quantity}\")\n",
    "    total_items = len(customer_orders)\n",
    "    print(f\"You ordered a total of {total_items} items.\")\n",
    "    print(f\"Items ordered: {orders}\")\n",
    "    print(f\"Total price: {total_price:.2f}€\")"
   ]
  },
  {
   "cell_type": "code",
   "execution_count": 36,
   "id": "31a51b87-927f-4f2c-a313-6fef1be489c9",
   "metadata": {},
   "outputs": [
    {
     "name": "stdout",
     "output_type": "stream",
     "text": [
      "Updated Inventory:\n",
      "t-shirt: 5\n",
      "mug: 4\n",
      "hat: 3\n",
      "book: 2\n",
      "keychain: 1\n",
      "You ordered a total of 2 items.\n",
      "Items ordered: ['hat', 'keychain']\n",
      "Total price: 15.00€\n"
     ]
    }
   ],
   "source": [
    "print_updated_inventory(inventory)"
   ]
  },
  {
   "cell_type": "code",
   "execution_count": null,
   "id": "8c940af8-f0dd-47f5-a394-93bd574d630c",
   "metadata": {},
   "outputs": [],
   "source": []
  },
  {
   "cell_type": "code",
   "execution_count": null,
   "id": "8bfc6579-7182-46e9-8cda-0aa545cbd86c",
   "metadata": {},
   "outputs": [],
   "source": []
  }
 ],
 "metadata": {
  "kernelspec": {
   "display_name": "Python 3 (ipykernel)",
   "language": "python",
   "name": "python3"
  },
  "language_info": {
   "codemirror_mode": {
    "name": "ipython",
    "version": 3
   },
   "file_extension": ".py",
   "mimetype": "text/x-python",
   "name": "python",
   "nbconvert_exporter": "python",
   "pygments_lexer": "ipython3",
   "version": "3.12.4"
  }
 },
 "nbformat": 4,
 "nbformat_minor": 5
}
